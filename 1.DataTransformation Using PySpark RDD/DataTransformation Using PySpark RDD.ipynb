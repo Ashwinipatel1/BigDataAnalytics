{
 "cells": [
  {
   "cell_type": "code",
   "execution_count": 1,
   "id": "fead61c7-a3b4-47ad-a664-b8ee91c7c686",
   "metadata": {},
   "outputs": [
    {
     "data": {
      "text/html": [
       "\n",
       "        <div>\n",
       "            <p><b>SparkContext</b></p>\n",
       "\n",
       "            <p><a href=\"http://AshwiniPatel:4040\">Spark UI</a></p>\n",
       "\n",
       "            <dl>\n",
       "              <dt>Version</dt>\n",
       "                <dd><code>v4.0.1</code></dd>\n",
       "              <dt>Master</dt>\n",
       "                <dd><code>local[*]</code></dd>\n",
       "              <dt>AppName</dt>\n",
       "                <dd><code>PySparkShell</code></dd>\n",
       "            </dl>\n",
       "        </div>\n",
       "        "
      ],
      "text/plain": [
       "<SparkContext master=local[*] appName=PySparkShell>"
      ]
     },
     "execution_count": 1,
     "metadata": {},
     "output_type": "execute_result"
    }
   ],
   "source": [
    "sc"
   ]
  },
  {
   "cell_type": "code",
   "execution_count": 2,
   "id": "c801132a-aca0-4ac4-919f-05330758cf8f",
   "metadata": {},
   "outputs": [],
   "source": [
    "import random\n"
   ]
  },
  {
   "cell_type": "code",
   "execution_count": 3,
   "id": "c57c54f6-d2f5-450f-a0e5-d6a6b30303a8",
   "metadata": {},
   "outputs": [
    {
     "name": "stdout",
     "output_type": "stream",
     "text": [
      "Original List:\n",
      "[381, 408, 85, 541, 796, 494, 430, 32, 675, 198, 579, 823, 536, 549, 789, 494, 624, 540, 251, 315, 851, 519, 612, 234, 675, 672, 312, 667, 707, 654, 825, 962, 126, 345, 491, 548, 341, 571, 717, 651, 982, 773, 791, 429, 75, 150, 574, 99, 542, 456, 552, 935, 964, 163, 596, 981, 985, 875, 818, 208, 900, 504, 144, 184, 675, 440, 585, 601, 550, 164, 280, 576, 616, 637, 471, 606, 497, 297, 66, 31, 191, 862, 911, 682, 639, 595, 420, 616, 133, 458, 983, 836, 872, 699, 834, 897, 976, 695, 429, 903]\n"
     ]
    }
   ],
   "source": [
    "random_numbers = [random.randint(1, 1000) for _ in range(100)]\n",
    "print(\"Original List:\")\n",
    "print(random_numbers)\n"
   ]
  },
  {
   "cell_type": "code",
   "execution_count": 4,
   "id": "767d1f1f-b4bc-42ec-8774-254056d09ba6",
   "metadata": {},
   "outputs": [],
   "source": [
    "numbers_rdd = sc.parallelize(random_numbers)"
   ]
  },
  {
   "cell_type": "code",
   "execution_count": 5,
   "id": "dfd1b70d-d35c-46da-a7ab-906bc0d3bb21",
   "metadata": {},
   "outputs": [],
   "source": [
    "even_numbers_rdd = numbers_rdd.filter(lambda x: x % 2 == 0)"
   ]
  },
  {
   "cell_type": "code",
   "execution_count": 6,
   "id": "343ad384-7754-4102-baf2-7feb6c10c9e5",
   "metadata": {},
   "outputs": [
    {
     "name": "stdout",
     "output_type": "stream",
     "text": [
      "\n",
      "Even Numbers:\n",
      "[408, 796, 494, 430, 32, 198, 536, 494, 624, 540, 612, 234, 672, 312, 654, 962, 126, 548, 982, 150, 574, 542, 456, 552, 964, 596, 818, 208, 900, 504, 144, 184, 440, 550, 164, 280, 576, 616, 606, 66, 862, 682, 420, 616, 458, 836, 872, 834, 976]\n"
     ]
    }
   ],
   "source": [
    "even_numbers = even_numbers_rdd.collect()\n",
    "print(\"\\nEven Numbers:\")\n",
    "print(even_numbers)\n"
   ]
  },
  {
   "cell_type": "code",
   "execution_count": null,
   "id": "34d47ad2-1d0e-472b-ad9f-5d316f4e8d88",
   "metadata": {},
   "outputs": [],
   "source": []
  }
 ],
 "metadata": {
  "kernelspec": {
   "display_name": "Python 3 (ipykernel)",
   "language": "python",
   "name": "python3"
  },
  "language_info": {
   "codemirror_mode": {
    "name": "ipython",
    "version": 3
   },
   "file_extension": ".py",
   "mimetype": "text/x-python",
   "name": "python",
   "nbconvert_exporter": "python",
   "pygments_lexer": "ipython3",
   "version": "3.11.9"
  }
 },
 "nbformat": 4,
 "nbformat_minor": 5
}
