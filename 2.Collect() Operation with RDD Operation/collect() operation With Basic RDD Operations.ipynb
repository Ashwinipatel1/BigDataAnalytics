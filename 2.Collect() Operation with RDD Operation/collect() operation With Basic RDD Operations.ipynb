{
 "cells": [
  {
   "cell_type": "code",
   "execution_count": 1,
   "id": "9825cb05-41e6-43c5-9c77-cda53c3b32f0",
   "metadata": {},
   "outputs": [],
   "source": [
    "data = sc.textFile(\"students.csv\")"
   ]
  },
  {
   "cell_type": "code",
   "execution_count": 2,
   "id": "1451137d-2164-4c4d-a5df-f5a0c23009bd",
   "metadata": {},
   "outputs": [],
   "source": [
    "header = data.first()\n",
    "rows = data.filter(lambda line: line != header)"
   ]
  },
  {
   "cell_type": "code",
   "execution_count": 3,
   "id": "5d08cfb2-900a-4525-b5b6-3dc82b7bbeba",
   "metadata": {},
   "outputs": [],
   "source": [
    "split_rdd = rows.map(lambda line: line.split(\",\"))"
   ]
  },
  {
   "cell_type": "code",
   "execution_count": 4,
   "id": "5cfd799d-d995-4d5d-9997-ece8be7a6f44",
   "metadata": {},
   "outputs": [
    {
     "name": "stdout",
     "output_type": "stream",
     "text": [
      "=== Student Dataset (first 10 rows) ===\n",
      "['1', 'Alice', '20', 'F', '66', '92', '44']\n",
      "['2', 'Bob', '20', 'M', '82', '52', '77']\n",
      "['3', 'Charlie', '22', 'F', '43', '57', '76']\n",
      "['4', 'David', '19', 'M', '95', '69', '46']\n",
      "['5', 'Eva', '19', 'F', '62', '44', '96']\n",
      "['6', 'Frank', '22', 'F', '70', '78', '94']\n",
      "['7', 'Grace', '24', 'F', '67', '66', '93']\n",
      "['8', 'Henry', '21', 'F', '53', '82', '60']\n",
      "['9', 'Ivy', '19', 'M', '64', '52', '46']\n",
      "['10', 'Jack', '19', 'F', '44', '59', '60']\n"
     ]
    }
   ],
   "source": [
    "print(\"=== Student Dataset (first 10 rows) ===\")\n",
    "for row in split_rdd.take(10): # you can change 10 → 20, 50 etc.\n",
    " print(row)\n"
   ]
  },
  {
   "cell_type": "code",
   "execution_count": 5,
   "id": "9298a366-a58c-4d0e-b172-48df5ce4053d",
   "metadata": {},
   "outputs": [],
   "source": [
    "students_rdd = split_rdd.map(lambda x: (int(x[0]), x[1], int(x[2]), x[3], int(x[4]), int(x[5]), int(x[6])))\n"
   ]
  },
  {
   "cell_type": "code",
   "execution_count": 6,
   "id": "8a12f2b7-0a28-4e49-a4bc-92dc787a079c",
   "metadata": {},
   "outputs": [],
   "source": [
    "avg_marks_rdd = students_rdd.map(lambda x: (x[1], (x[4] + x[5] + x[6]) / 3))\n"
   ]
  },
  {
   "cell_type": "code",
   "execution_count": 7,
   "id": "f21b3773-b9ee-43b7-9cb1-7124f331dfc1",
   "metadata": {},
   "outputs": [],
   "source": [
    "passed_rdd = avg_marks_rdd.filter(lambda x: x[1] >= 75)\n"
   ]
  },
  {
   "cell_type": "code",
   "execution_count": 8,
   "id": "59ed440e-5b4f-46d2-96a4-75b71336173f",
   "metadata": {},
   "outputs": [],
   "source": [
    "sorted_passed_rdd = passed_rdd.sortBy(lambda x: x[1], ascending=False)\n"
   ]
  },
  {
   "cell_type": "code",
   "execution_count": 9,
   "id": "7c497e49-ac21-4366-ad9b-a93d6dbe99d6",
   "metadata": {},
   "outputs": [],
   "source": [
    "results = sorted_passed_rdd.collect()\n"
   ]
  },
  {
   "cell_type": "code",
   "execution_count": 10,
   "id": "5c2170e8-4be7-46ef-9163-d836121c05a2",
   "metadata": {},
   "outputs": [
    {
     "name": "stdout",
     "output_type": "stream",
     "text": [
      "=== Students with Average >= 75 ===\n",
      "Name: Leo, Avg Marks: 88.00\n",
      "Name: Olivia, Avg Marks: 88.00\n",
      "Name: Rita, Avg Marks: 86.67\n",
      "Name: Kathy, Avg Marks: 81.67\n",
      "Name: George, Avg Marks: 81.67\n",
      "Name: Frank, Avg Marks: 80.67\n",
      "Name: Oscar, Avg Marks: 80.00\n",
      "Name: Uma, Avg Marks: 78.33\n",
      "Name: Kyle, Avg Marks: 78.33\n",
      "Name: Matt, Avg Marks: 78.33\n",
      "Name: Tina, Avg Marks: 76.00\n",
      "Name: Victor, Avg Marks: 75.67\n",
      "Name: Grace, Avg Marks: 75.33\n",
      "Name: Mona, Avg Marks: 75.00\n",
      "Name: Will, Avg Marks: 75.00\n"
     ]
    }
   ],
   "source": [
    "print(\"=== Students with Average >= 75 ===\")\n",
    "for student in results:\n",
    " print(f\"Name: {student[0]}, Avg Marks: {student[1]:.2f}\")\n"
   ]
  },
  {
   "cell_type": "code",
   "execution_count": 11,
   "id": "656d7b87-33a1-4c4b-b1fe-b26335d9ed4e",
   "metadata": {},
   "outputs": [
    {
     "name": "stdout",
     "output_type": "stream",
     "text": [
      "\n",
      "Number of students who passed: 15\n"
     ]
    }
   ],
   "source": [
    "count_passed = passed_rdd.count()\n",
    "print(\"\\nNumber of students who passed:\", count_passed)"
   ]
  },
  {
   "cell_type": "code",
   "execution_count": 12,
   "id": "b95b335a-7234-49a9-8b34-e8ec58fa2115",
   "metadata": {},
   "outputs": [
    {
     "name": "stdout",
     "output_type": "stream",
     "text": [
      "Topper: ('Olivia', 88.0)\n"
     ]
    }
   ],
   "source": [
    "topper = passed_rdd.reduce(lambda a, b: a if a[1] > b[1] else b)\n",
    "print(\"Topper:\", topper)\n"
   ]
  },
  {
   "cell_type": "code",
   "execution_count": 13,
   "id": "d46fb2c4-d588-41ce-9ef1-ff482f45df9d",
   "metadata": {},
   "outputs": [
    {
     "name": "stdout",
     "output_type": "stream",
     "text": [
      "\n",
      "First 5 Passed Students (via take):\n",
      "[('Frank', 80.66666666666667), ('Grace', 75.33333333333333), ('Kathy', 81.66666666666667), ('Leo', 88.0), ('Mona', 75.0)]\n"
     ]
    }
   ],
   "source": [
    "print(\"\\nFirst 5 Passed Students (via take):\")\n",
    "print(passed_rdd.take(5))\n"
   ]
  },
  {
   "cell_type": "code",
   "execution_count": null,
   "id": "a51099f8-fa4c-4966-afef-8dfff1f5833d",
   "metadata": {},
   "outputs": [],
   "source": []
  }
 ],
 "metadata": {
  "kernelspec": {
   "display_name": "Python 3 (ipykernel)",
   "language": "python",
   "name": "python3"
  },
  "language_info": {
   "codemirror_mode": {
    "name": "ipython",
    "version": 3
   },
   "file_extension": ".py",
   "mimetype": "text/x-python",
   "name": "python",
   "nbconvert_exporter": "python",
   "pygments_lexer": "ipython3",
   "version": "3.11.9"
  }
 },
 "nbformat": 4,
 "nbformat_minor": 5
}
